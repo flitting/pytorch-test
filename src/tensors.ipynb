{
 "cells": [
  {
   "cell_type": "code",
   "id": "initial_id",
   "metadata": {
    "collapsed": true,
    "ExecuteTime": {
     "end_time": "2024-05-30T06:18:05.630185Z",
     "start_time": "2024-05-30T06:18:02.679083Z"
    }
   },
   "source": [
    "import torch\n",
    "import numpy as np\n",
    "\n",
    "data = [[1,2],[3,4]]\n",
    "x_data = torch.tensor(data)\n",
    "np.array = np.array(data)\n",
    "x_np = torch.from_numpy(np.array)\n",
    "\n",
    "x_ones = torch.ones_like(x_data)\n",
    "print(f\"One tensor:\\n{x_ones}\\n\")\n",
    "x_rand = torch.rand_like(x_data, dtype=torch.float)\n",
    "print(f\"Random Tensor :\\n {x_rand}\\n\")"
   ],
   "outputs": [
    {
     "name": "stdout",
     "output_type": "stream",
     "text": [
      "One tensor:\n",
      "tensor([[1, 1],\n",
      "        [1, 1]])\n",
      "\n",
      "Random Tensor :\n",
      " tensor([[0.7834, 0.6913],\n",
      "        [0.3622, 0.5139]])\n",
      "\n"
     ]
    }
   ],
   "execution_count": 1
  },
  {
   "metadata": {
    "ExecuteTime": {
     "end_time": "2024-05-30T08:14:35.790042Z",
     "start_time": "2024-05-30T08:14:35.761843Z"
    }
   },
   "cell_type": "code",
   "source": [
    "shape = (2,3,)\n",
    "rand_tensor = torch.rand(shape)\n",
    "ones_tenor = torch.ones(shape)\n",
    "zeros_tensor = torch.zeros(shape)\n",
    "\n",
    "print(rand_tensor,ones_tenor,zeros_tensor)"
   ],
   "id": "8375fc52b05b92da",
   "outputs": [
    {
     "name": "stdout",
     "output_type": "stream",
     "text": [
      "tensor([[0.7445, 0.6746, 0.4482],\n",
      "        [0.2027, 0.1424, 0.0774]]) tensor([[1., 1., 1.],\n",
      "        [1., 1., 1.]]) tensor([[0., 0., 0.],\n",
      "        [0., 0., 0.]])\n"
     ]
    }
   ],
   "execution_count": 2
  },
  {
   "metadata": {
    "ExecuteTime": {
     "end_time": "2024-05-30T08:16:59.892039Z",
     "start_time": "2024-05-30T08:16:59.873545Z"
    }
   },
   "cell_type": "code",
   "source": [
    "tensor = torch.rand(3,4)\n",
    "print(f\"Shape of tensor {tensor.shape}\")\n",
    "print(f\"Datatype of tensor {tensor.dtype}\")\n",
    "print(f\"Device tensor is stored on:{tensor.device}\")\n"
   ],
   "id": "111399ab17c5cbdd",
   "outputs": [
    {
     "name": "stdout",
     "output_type": "stream",
     "text": [
      "Shape of tensor torch.Size([3, 4])\n",
      "Datatype of tensor torch.float32\n",
      "Device tensor is stored on:cpu\n"
     ]
    }
   ],
   "execution_count": 3
  },
  {
   "metadata": {
    "ExecuteTime": {
     "end_time": "2024-05-30T08:23:39.113465Z",
     "start_time": "2024-05-30T08:23:39.095916Z"
    }
   },
   "cell_type": "code",
   "source": [
    "if torch.cuda.is_available():\n",
    "    tensor = tensor.to(\"cuda\")\n",
    "tensor = torch.tensor([[1,2,3,4],[1,2,3,4],[1,2,3,4],[1,2,3,4]])\n",
    "print(tensor[0])\n",
    "print(tensor[:,0])\n",
    "print(tensor[...,-1])\n",
    "tensor[:,1]=0\n",
    "print(tensor)"
   ],
   "id": "a1b3f2940b8aed71",
   "outputs": [
    {
     "name": "stdout",
     "output_type": "stream",
     "text": [
      "tensor([1, 2, 3, 4])\n",
      "tensor([1, 1, 1, 1])\n",
      "tensor([4, 4, 4, 4])\n",
      "tensor([[1, 0, 3, 4],\n",
      "        [1, 0, 3, 4],\n",
      "        [1, 0, 3, 4],\n",
      "        [1, 0, 3, 4]])\n"
     ]
    }
   ],
   "execution_count": 8
  },
  {
   "metadata": {
    "ExecuteTime": {
     "end_time": "2024-05-30T08:44:32.851785Z",
     "start_time": "2024-05-30T08:44:32.817389Z"
    }
   },
   "cell_type": "code",
   "source": [
    "import torch\n",
    "\n",
    "# 假设 tensor 是一个形状为 (N, C) 的张量，并且数据类型为浮点型\n",
    "tensor = torch.randn(2, 3).float()  # 示例初始化为 float 类型\n",
    "\n",
    "# 使用 torch.cat 拼接张量\n",
    "t1 = torch.cat([tensor, tensor, tensor], dim=1)\n",
    "print(\"t1:\", t1)\n",
    "\n",
    "# 矩阵乘法\n",
    "y1 = tensor @ tensor.T\n",
    "y2 = tensor.matmul(tensor.T)\n",
    "print(\"y1:\", y1)\n",
    "print(\"y2:\", y2)\n",
    "\n",
    "# 使用 out 参数进行矩阵乘法\n",
    "y3 = torch.rand_like(y1)\n",
    "torch.matmul(tensor, tensor.T, out=y3)\n",
    "print(\"y3:\", y3)\n",
    "\n",
    "# 元素乘法\n",
    "z1 = tensor * tensor\n",
    "z2 = tensor.mul(tensor)\n",
    "print(\"z1:\", z1)\n",
    "print(\"z2:\", z2)\n",
    "\n",
    "# 使用 out 参数进行元素乘法\n",
    "z3 = torch.rand_like(tensor)\n",
    "torch.mul(tensor, tensor, out=z3)\n",
    "print(\"z3:\", z3)\n"
   ],
   "id": "f4c21695c7be4224",
   "outputs": [
    {
     "name": "stdout",
     "output_type": "stream",
     "text": [
      "t1: tensor([[ 0.4481, -1.2375, -1.5883,  0.4481, -1.2375, -1.5883,  0.4481, -1.2375,\n",
      "         -1.5883],\n",
      "        [ 0.1689,  1.2353, -0.8415,  0.1689,  1.2353, -0.8415,  0.1689,  1.2353,\n",
      "         -0.8415]])\n",
      "y1: tensor([[ 4.2547, -0.1164],\n",
      "        [-0.1164,  2.2627]])\n",
      "y2: tensor([[ 4.2547, -0.1164],\n",
      "        [-0.1164,  2.2627]])\n",
      "y3: tensor([[ 4.2547, -0.1164],\n",
      "        [-0.1164,  2.2627]])\n",
      "z1: tensor([[0.2008, 1.5313, 2.5225],\n",
      "        [0.0285, 1.5260, 0.7081]])\n",
      "z2: tensor([[0.2008, 1.5313, 2.5225],\n",
      "        [0.0285, 1.5260, 0.7081]])\n",
      "z3: tensor([[0.2008, 1.5313, 2.5225],\n",
      "        [0.0285, 1.5260, 0.7081]])\n"
     ]
    }
   ],
   "execution_count": 10
  },
  {
   "metadata": {
    "ExecuteTime": {
     "end_time": "2024-05-30T08:45:30.734055Z",
     "start_time": "2024-05-30T08:45:30.711297Z"
    }
   },
   "cell_type": "code",
   "source": [
    "agg = tensor.sum()\n",
    "agg_item = agg.item()\n",
    "print(agg_item,type(agg_item))"
   ],
   "id": "993c97a239bd7b87",
   "outputs": [
    {
     "name": "stdout",
     "output_type": "stream",
     "text": [
      "-1.8148311376571655 <class 'float'>\n"
     ]
    }
   ],
   "execution_count": 11
  },
  {
   "metadata": {
    "ExecuteTime": {
     "end_time": "2024-05-30T08:47:36.872107Z",
     "start_time": "2024-05-30T08:47:36.848545Z"
    }
   },
   "cell_type": "code",
   "source": [
    "print(tensor)\n",
    "tensor.add_(5)\n",
    "print(tensor)"
   ],
   "id": "dbd461b016cba2b4",
   "outputs": [
    {
     "name": "stdout",
     "output_type": "stream",
     "text": [
      "tensor([[ 0.4481, -1.2375, -1.5883],\n",
      "        [ 0.1689,  1.2353, -0.8415]])\n",
      "tensor([[5.4481, 3.7625, 3.4117],\n",
      "        [5.1689, 6.2353, 4.1585]])\n"
     ]
    }
   ],
   "execution_count": 12
  },
  {
   "metadata": {},
   "cell_type": "code",
   "outputs": [],
   "execution_count": null,
   "source": "",
   "id": "a84ccb7ad27dc1fc"
  }
 ],
 "metadata": {
  "kernelspec": {
   "display_name": "Python (myenv)",
   "language": "python",
   "name": "myenv"
  },
  "language_info": {
   "codemirror_mode": {
    "name": "ipython",
    "version": 2
   },
   "file_extension": ".py",
   "mimetype": "text/x-python",
   "name": "python",
   "nbconvert_exporter": "python",
   "pygments_lexer": "ipython2",
   "version": "2.7.6"
  }
 },
 "nbformat": 4,
 "nbformat_minor": 5
}

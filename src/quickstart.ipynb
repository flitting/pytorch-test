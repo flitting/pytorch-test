{
 "cells": [
  {
   "cell_type": "code",
   "id": "initial_id",
   "metadata": {
    "collapsed": true,
    "ExecuteTime": {
     "end_time": "2024-05-29T23:02:01.314027Z",
     "start_time": "2024-05-29T23:01:54.155360Z"
    }
   },
   "source": [
    "import torch\n",
    "from torch import nn\n",
    "from torch.utils.data import DataLoader\n",
    "from torchvision import datasets\n",
    "from torchvision.transforms import ToTensor\n",
    "\n",
    "training_data = datasets.FashionMNIST(\n",
    "    root=\"data\",\n",
    "    train=True,\n",
    "    download=True,\n",
    "    transform=ToTensor(),\n",
    ")\n",
    "test_data = datasets.FashionMNIST(\n",
    "    root=\"data\",\n",
    "    train=False,\n",
    "    download=True,\n",
    "    transform=ToTensor(),\n",
    ")\n",
    "batch_size = 64\n",
    "train_dataloader = DataLoader(training_data, batch_size=batch_size)\n",
    "test_dataloader = DataLoader(test_data, batch_size=batch_size)\n",
    "\n",
    "for X, y in test_dataloader:\n",
    "    print(f\"Shape of X [N,C,H,W]: {X.shape}\")\n",
    "    print(f\"Shape of y{y.shape} {y.dtype}\")\n",
    "    break\n",
    "\n",
    "\n"
   ],
   "outputs": [
    {
     "name": "stderr",
     "output_type": "stream",
     "text": [
      "C:\\Users\\20385\\.conda\\envs\\myenv\\lib\\site-packages\\torchvision\\io\\image.py:13: UserWarning: Failed to load image Python extension: '[WinError 127] The specified procedure could not be found'If you don't plan on using image functionality from `torchvision.io`, you can ignore this warning. Otherwise, there might be something wrong with your environment. Did you have `libjpeg` or `libpng` installed before building `torchvision` from source?\n",
      "  warn(\n"
     ]
    },
    {
     "name": "stdout",
     "output_type": "stream",
     "text": [
      "Shape of X [N,C,H,W]: torch.Size([64, 1, 28, 28])\n",
      "Shape of ytorch.Size([64]) torch.int64\n"
     ]
    }
   ],
   "execution_count": 1
  },
  {
   "metadata": {
    "ExecuteTime": {
     "end_time": "2024-05-29T23:02:15.129801Z",
     "start_time": "2024-05-29T23:02:15.102835Z"
    }
   },
   "cell_type": "code",
   "source": [
    "device = (\n",
    "    \"cuda\"\n",
    "    if torch.cuda.is_available()\n",
    "    else \"mps\"\n",
    "    if torch.backends.mps.is_available()\n",
    "    else \"cpu\"\n",
    "    )\n",
    "print(f\"Using {device} device\")\n",
    "#define model\n",
    "class NeuralNetwork(nn.Module):\n",
    "    def __init__(self):\n",
    "        super().__init__()\n",
    "        self.flatten = nn.Flatten()\n",
    "        self.linear_relu_stack = nn.Sequential(\n",
    "            nn.Linear(28*28, 512),\n",
    "            nn.ReLU(),\n",
    "            nn.Linear(512, 512),\n",
    "            nn.ReLU(),\n",
    "            nn.Linear(512,10)\n",
    "        )\n",
    "    def forward(self,x):\n",
    "        x = self.flatten(x)\n",
    "        logits = self.linear_relu_stack(x)\n",
    "        return logits\n",
    "model = NeuralNetwork().to(device)\n",
    "print(model)\n",
    "    "
   ],
   "id": "28dccf6e121ad055",
   "outputs": [
    {
     "name": "stdout",
     "output_type": "stream",
     "text": [
      "Using cpu device\n",
      "NeuralNetwork(\n",
      "  (flatten): Flatten(start_dim=1, end_dim=-1)\n",
      "  (linear_relu_stack): Sequential(\n",
      "    (0): Linear(in_features=784, out_features=512, bias=True)\n",
      "    (1): ReLU()\n",
      "    (2): Linear(in_features=512, out_features=512, bias=True)\n",
      "    (3): ReLU()\n",
      "    (4): Linear(in_features=512, out_features=10, bias=True)\n",
      "  )\n",
      ")\n"
     ]
    }
   ],
   "execution_count": 2
  },
  {
   "metadata": {
    "ExecuteTime": {
     "end_time": "2024-05-29T23:04:24.992548Z",
     "start_time": "2024-05-29T23:02:16.802244Z"
    }
   },
   "cell_type": "code",
   "source": [
    "loss_fn = nn.CrossEntropyLoss()\n",
    "optimizer = torch.optim.SGD(model.parameters(),lr=1e-3)\n",
    "\n",
    "def train(dataloader, model, loss_fn, optimizer):\n",
    "    size = len(dataloader.dataset)\n",
    "    model.train()\n",
    "    for batch, (X,y) in enumerate(dataloader):\n",
    "        X,y = X.to(device), y.to(device)\n",
    "        pred = model(X)\n",
    "        loss = loss_fn(pred, y)\n",
    "        loss.backward()\n",
    "        optimizer.step()\n",
    "        optimizer.zero_grad()\n",
    "        \n",
    "        if batch % 100 == 0:\n",
    "            loss, current = loss.item(), (batch +1) *len(X)\n",
    "            print(f\"loss:{loss:>7f}[{current:>5d}/{size:>5d}]\")\n",
    "def test(dataloader, model, loss_fn):\n",
    "    size = len(dataloader.dataset)\n",
    "    num_batches = len(dataloader)\n",
    "    model.eval()\n",
    "    test_loss, correct = 0,0\n",
    "    with torch.no_grad():\n",
    "        for X,y in dataloader:\n",
    "            X,y = X.to(device),y.to(device)\n",
    "            pred = model(X)\n",
    "            test_loss += loss_fn(pred,y).item()\n",
    "            correct += (pred.argmax(1) == y).type(torch.float).sum().item()\n",
    "    test_loss /= num_batches\n",
    "    correct /= size\n",
    "    print(f\"Test Error:\\n Accuracy:{(100*correct):>0.1f}%, Avg loss: {test_loss:>8f}\\n\")\n",
    "    \n",
    "epochs = 10\n",
    "for t in range(epochs):\n",
    "    print(f\"Epoch {t+1}\\n---------------\")\n",
    "    train(train_dataloader, model, loss_fn, optimizer)\n",
    "    test(test_dataloader,model, loss_fn)\n",
    "print(\"Done!\")\n",
    "        "
   ],
   "id": "32d81119dfb554b5",
   "outputs": [
    {
     "name": "stdout",
     "output_type": "stream",
     "text": [
      "Epoch 1\n",
      "---------------\n",
      "loss:2.310808[   64/60000]\n",
      "loss:2.298721[ 6464/60000]\n",
      "loss:2.277423[12864/60000]\n",
      "loss:2.270152[19264/60000]\n",
      "loss:2.256066[25664/60000]\n",
      "loss:2.231041[32064/60000]\n",
      "loss:2.229250[38464/60000]\n",
      "loss:2.197392[44864/60000]\n",
      "loss:2.193247[51264/60000]\n",
      "loss:2.173384[57664/60000]\n",
      "Test Error:\n",
      " Accuracy:46.3%, Avg loss: 2.160572\n",
      "\n",
      "Epoch 2\n",
      "---------------\n",
      "loss:2.172199[   64/60000]\n",
      "loss:2.165326[ 6464/60000]\n",
      "loss:2.102564[12864/60000]\n",
      "loss:2.120900[19264/60000]\n",
      "loss:2.079217[25664/60000]\n",
      "loss:2.021863[32064/60000]\n",
      "loss:2.043322[38464/60000]\n",
      "loss:1.965039[44864/60000]\n",
      "loss:1.971079[51264/60000]\n",
      "loss:1.922715[57664/60000]\n",
      "Test Error:\n",
      " Accuracy:56.0%, Avg loss: 1.904771\n",
      "\n",
      "Epoch 3\n",
      "---------------\n",
      "loss:1.936500[   64/60000]\n",
      "loss:1.915672[ 6464/60000]\n",
      "loss:1.787836[12864/60000]\n",
      "loss:1.833590[19264/60000]\n",
      "loss:1.732914[25664/60000]\n",
      "loss:1.684318[32064/60000]\n",
      "loss:1.707627[38464/60000]\n",
      "loss:1.599822[44864/60000]\n",
      "loss:1.633070[51264/60000]\n",
      "loss:1.548456[57664/60000]\n",
      "Test Error:\n",
      " Accuracy:58.0%, Avg loss: 1.545867\n",
      "\n",
      "Epoch 4\n",
      "---------------\n",
      "loss:1.613500[   64/60000]\n",
      "loss:1.583884[ 6464/60000]\n",
      "loss:1.421314[12864/60000]\n",
      "loss:1.498413[19264/60000]\n",
      "loss:1.378147[25664/60000]\n",
      "loss:1.376702[32064/60000]\n",
      "loss:1.387118[38464/60000]\n",
      "loss:1.304564[44864/60000]\n",
      "loss:1.350930[51264/60000]\n",
      "loss:1.257977[57664/60000]\n",
      "Test Error:\n",
      " Accuracy:61.7%, Avg loss: 1.276420\n",
      "\n",
      "Epoch 5\n",
      "---------------\n",
      "loss:1.359932[   64/60000]\n",
      "loss:1.341869[ 6464/60000]\n",
      "loss:1.169475[12864/60000]\n",
      "loss:1.273313[19264/60000]\n",
      "loss:1.146756[25664/60000]\n",
      "loss:1.178276[32064/60000]\n",
      "loss:1.189003[38464/60000]\n",
      "loss:1.122611[44864/60000]\n",
      "loss:1.174037[51264/60000]\n",
      "loss:1.091781[57664/60000]\n",
      "Test Error:\n",
      " Accuracy:63.6%, Avg loss: 1.109208\n",
      "\n",
      "Epoch 6\n",
      "---------------\n",
      "loss:1.189431[   64/60000]\n",
      "loss:1.188626[ 6464/60000]\n",
      "loss:1.001399[12864/60000]\n",
      "loss:1.134192[19264/60000]\n",
      "loss:1.002104[25664/60000]\n",
      "loss:1.044136[32064/60000]\n",
      "loss:1.068668[38464/60000]\n",
      "loss:1.005850[44864/60000]\n",
      "loss:1.058263[51264/60000]\n",
      "loss:0.989108[57664/60000]\n",
      "Test Error:\n",
      " Accuracy:65.1%, Avg loss: 1.000826\n",
      "\n",
      "Epoch 7\n",
      "---------------\n",
      "loss:1.069264[   64/60000]\n",
      "loss:1.088706[ 6464/60000]\n",
      "loss:0.885089[12864/60000]\n",
      "loss:1.041191[19264/60000]\n",
      "loss:0.910175[25664/60000]\n",
      "loss:0.948235[32064/60000]\n",
      "loss:0.989782[38464/60000]\n",
      "loss:0.928320[44864/60000]\n",
      "loss:0.977088[51264/60000]\n",
      "loss:0.919796[57664/60000]\n",
      "Test Error:\n",
      " Accuracy:66.9%, Avg loss: 0.925942\n",
      "\n",
      "Epoch 8\n",
      "---------------\n",
      "loss:0.979274[   64/60000]\n",
      "loss:1.018117[ 6464/60000]\n",
      "loss:0.800346[12864/60000]\n",
      "loss:0.974501[19264/60000]\n",
      "loss:0.848614[25664/60000]\n",
      "loss:0.876285[32064/60000]\n",
      "loss:0.934012[38464/60000]\n",
      "loss:0.875093[44864/60000]\n",
      "loss:0.917641[51264/60000]\n",
      "loss:0.868912[57664/60000]\n",
      "Test Error:\n",
      " Accuracy:68.0%, Avg loss: 0.871143\n",
      "\n",
      "Epoch 9\n",
      "---------------\n",
      "loss:0.909175[   64/60000]\n",
      "loss:0.964523[ 6464/60000]\n",
      "loss:0.736286[12864/60000]\n",
      "loss:0.924037[19264/60000]\n",
      "loss:0.804607[25664/60000]\n",
      "loss:0.820876[32064/60000]\n",
      "loss:0.891745[38464/60000]\n",
      "loss:0.837347[44864/60000]\n",
      "loss:0.872512[51264/60000]\n",
      "loss:0.829415[57664/60000]\n",
      "Test Error:\n",
      " Accuracy:69.3%, Avg loss: 0.829150\n",
      "\n",
      "Epoch 10\n",
      "---------------\n",
      "loss:0.852626[   64/60000]\n",
      "loss:0.920961[ 6464/60000]\n",
      "loss:0.686192[12864/60000]\n",
      "loss:0.884245[19264/60000]\n",
      "loss:0.771561[25664/60000]\n",
      "loss:0.777426[32064/60000]\n",
      "loss:0.857556[38464/60000]\n",
      "loss:0.809400[44864/60000]\n",
      "loss:0.837131[51264/60000]\n",
      "loss:0.797627[57664/60000]\n",
      "Test Error:\n",
      " Accuracy:70.4%, Avg loss: 0.795647\n",
      "\n",
      "Done!\n"
     ]
    }
   ],
   "execution_count": 3
  },
  {
   "metadata": {
    "ExecuteTime": {
     "end_time": "2024-05-29T23:05:15.005401Z",
     "start_time": "2024-05-29T23:05:14.955659Z"
    }
   },
   "cell_type": "code",
   "source": [
    "torch.save(model.state_dict(),\"model.pth\")\n",
    "print(\"Saved pyTorch Model State to model.pth\")\n",
    "\n",
    "#load model\n",
    "model = NeuralNetwork().to(device)\n",
    "model.load_state_dict(torch.load(\"model.pth\"))"
   ],
   "id": "d09c2eb93d826e59",
   "outputs": [
    {
     "name": "stdout",
     "output_type": "stream",
     "text": [
      "Saved pyTorch Model State to model.pth\n"
     ]
    },
    {
     "data": {
      "text/plain": [
       "<All keys matched successfully>"
      ]
     },
     "execution_count": 5,
     "metadata": {},
     "output_type": "execute_result"
    }
   ],
   "execution_count": 5
  },
  {
   "metadata": {
    "ExecuteTime": {
     "end_time": "2024-05-29T23:52:19.369996Z",
     "start_time": "2024-05-29T23:52:19.361885Z"
    }
   },
   "cell_type": "code",
   "source": "print(model.parameters())",
   "id": "5a182e631ac94546",
   "outputs": [
    {
     "name": "stdout",
     "output_type": "stream",
     "text": [
      "<generator object Module.parameters at 0x0000027AFF58A110>\n"
     ]
    }
   ],
   "execution_count": 6
  }
 ],
 "metadata": {
  "kernelspec": {
   "display_name": "Python (myenv)",
   "language": "python",
   "name": "myenv"
  },
  "language_info": {
   "codemirror_mode": {
    "name": "ipython",
    "version": 2
   },
   "file_extension": ".py",
   "mimetype": "text/x-python",
   "name": "python",
   "nbconvert_exporter": "python",
   "pygments_lexer": "ipython2",
   "version": "2.7.6"
  }
 },
 "nbformat": 4,
 "nbformat_minor": 5
}
